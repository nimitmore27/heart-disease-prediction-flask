{
 "cells": [
  {
   "cell_type": "code",
   "execution_count": 1,
   "metadata": {},
   "outputs": [],
   "source": [
    "import pandas as pd\n",
    "df = pd.read_csv('./heart_Disease_prediction_new_final_CORRECTED.csv')"
   ]
  },
  {
   "cell_type": "code",
   "execution_count": 2,
   "metadata": {},
   "outputs": [
    {
     "data": {
      "text/html": [
       "<div>\n",
       "<style scoped>\n",
       "    .dataframe tbody tr th:only-of-type {\n",
       "        vertical-align: middle;\n",
       "    }\n",
       "\n",
       "    .dataframe tbody tr th {\n",
       "        vertical-align: top;\n",
       "    }\n",
       "\n",
       "    .dataframe thead th {\n",
       "        text-align: right;\n",
       "    }\n",
       "</style>\n",
       "<table border=\"1\" class=\"dataframe\">\n",
       "  <thead>\n",
       "    <tr style=\"text-align: right;\">\n",
       "      <th></th>\n",
       "      <th>age</th>\n",
       "      <th>sex</th>\n",
       "      <th>cp</th>\n",
       "      <th>trestbps</th>\n",
       "      <th>chol</th>\n",
       "      <th>fbs</th>\n",
       "      <th>restecg</th>\n",
       "      <th>thalach</th>\n",
       "      <th>exang</th>\n",
       "      <th>oldpeak</th>\n",
       "      <th>slope</th>\n",
       "      <th>target</th>\n",
       "    </tr>\n",
       "  </thead>\n",
       "  <tbody>\n",
       "    <tr>\n",
       "      <th>0</th>\n",
       "      <td>43</td>\n",
       "      <td>0</td>\n",
       "      <td>1</td>\n",
       "      <td>100</td>\n",
       "      <td>223</td>\n",
       "      <td>0</td>\n",
       "      <td>0</td>\n",
       "      <td>142</td>\n",
       "      <td>0</td>\n",
       "      <td>0.0</td>\n",
       "      <td>1</td>\n",
       "      <td>0</td>\n",
       "    </tr>\n",
       "    <tr>\n",
       "      <th>1</th>\n",
       "      <td>35</td>\n",
       "      <td>0</td>\n",
       "      <td>1</td>\n",
       "      <td>120</td>\n",
       "      <td>160</td>\n",
       "      <td>0</td>\n",
       "      <td>1</td>\n",
       "      <td>185</td>\n",
       "      <td>0</td>\n",
       "      <td>0.0</td>\n",
       "      <td>1</td>\n",
       "      <td>0</td>\n",
       "    </tr>\n",
       "    <tr>\n",
       "      <th>2</th>\n",
       "      <td>62</td>\n",
       "      <td>0</td>\n",
       "      <td>1</td>\n",
       "      <td>160</td>\n",
       "      <td>193</td>\n",
       "      <td>0</td>\n",
       "      <td>0</td>\n",
       "      <td>116</td>\n",
       "      <td>0</td>\n",
       "      <td>0.0</td>\n",
       "      <td>1</td>\n",
       "      <td>0</td>\n",
       "    </tr>\n",
       "    <tr>\n",
       "      <th>3</th>\n",
       "      <td>47</td>\n",
       "      <td>1</td>\n",
       "      <td>1</td>\n",
       "      <td>110</td>\n",
       "      <td>249</td>\n",
       "      <td>0</td>\n",
       "      <td>0</td>\n",
       "      <td>150</td>\n",
       "      <td>0</td>\n",
       "      <td>0.0</td>\n",
       "      <td>1</td>\n",
       "      <td>0</td>\n",
       "    </tr>\n",
       "    <tr>\n",
       "      <th>4</th>\n",
       "      <td>30</td>\n",
       "      <td>0</td>\n",
       "      <td>1</td>\n",
       "      <td>170</td>\n",
       "      <td>237</td>\n",
       "      <td>0</td>\n",
       "      <td>1</td>\n",
       "      <td>170</td>\n",
       "      <td>0</td>\n",
       "      <td>0.0</td>\n",
       "      <td>1</td>\n",
       "      <td>0</td>\n",
       "    </tr>\n",
       "  </tbody>\n",
       "</table>\n",
       "</div>"
      ],
      "text/plain": [
       "   age  sex  cp  trestbps  chol  fbs  restecg  thalach  exang  oldpeak  slope  \\\n",
       "0   43    0   1       100   223    0        0      142      0      0.0      1   \n",
       "1   35    0   1       120   160    0        1      185      0      0.0      1   \n",
       "2   62    0   1       160   193    0        0      116      0      0.0      1   \n",
       "3   47    1   1       110   249    0        0      150      0      0.0      1   \n",
       "4   30    0   1       170   237    0        1      170      0      0.0      1   \n",
       "\n",
       "   target  \n",
       "0       0  \n",
       "1       0  \n",
       "2       0  \n",
       "3       0  \n",
       "4       0  "
      ]
     },
     "execution_count": 2,
     "metadata": {},
     "output_type": "execute_result"
    }
   ],
   "source": [
    "df.head()"
   ]
  },
  {
   "cell_type": "code",
   "execution_count": 3,
   "metadata": {},
   "outputs": [],
   "source": [
    "# making heart disease prediction model\n",
    "from sklearn.model_selection import train_test_split\n",
    "from sklearn.linear_model import LogisticRegression\n",
    "from sklearn.tree import DecisionTreeClassifier\n",
    "from sklearn.ensemble import RandomForestClassifier\n",
    "from sklearn.metrics import accuracy_score\n",
    "\n",
    "# split data into features and target\n",
    "X = df.drop(columns=['target'])\n",
    "Y = df['target']\n",
    "\n",
    "# split data into train and test data\n",
    "X_train, X_test, Y_train, Y_test = train_test_split(X, Y, test_size=0.2, stratify=Y, random_state=2)\n",
    "\n"
   ]
  },
  {
   "cell_type": "code",
   "execution_count": 6,
   "metadata": {},
   "outputs": [
    {
     "name": "stdout",
     "output_type": "stream",
     "text": [
      "Logistic Regression Accuracy:  0.713128038897893\n"
     ]
    }
   ],
   "source": [
    "# model training\n",
    "# logistic regression\n",
    "logi_model = LogisticRegression()\n",
    "#Increase the number of iterations (max_iter) or scale the data\n",
    "#scaling the data\n",
    "from sklearn.preprocessing import StandardScaler\n",
    "scaler = StandardScaler()\n",
    "X_train = scaler.fit_transform(X_train)\n",
    "X_test = scaler.transform(X_test)\n",
    "\n",
    "logi_model.fit(X_train, Y_train)\n",
    "logi_pred = logi_model.predict(X_test)\n",
    "logi_acc = accuracy_score(Y_test, logi_pred)\n",
    "print(\"Logistic Regression Accuracy: \", logi_acc)"
   ]
  },
  {
   "cell_type": "code",
   "execution_count": 7,
   "metadata": {},
   "outputs": [
    {
     "name": "stdout",
     "output_type": "stream",
     "text": [
      "Decision Tree Accuracy:  0.9384116693679092\n"
     ]
    }
   ],
   "source": [
    "#model training\n",
    "# decision tree\n",
    "dt_model = DecisionTreeClassifier()\n",
    "dt_model.fit(X_train, Y_train)\n",
    "dt_pred = dt_model.predict(X_test)\n",
    "dt_acc = accuracy_score(Y_test, dt_pred)\n",
    "print(\"Decision Tree Accuracy: \", dt_acc)"
   ]
  },
  {
   "cell_type": "code",
   "execution_count": 8,
   "metadata": {},
   "outputs": [
    {
     "name": "stdout",
     "output_type": "stream",
     "text": [
      "Random Forest Accuracy:  0.9481361426256077\n"
     ]
    }
   ],
   "source": [
    "#model training\n",
    "# random forest\n",
    "rf_model = RandomForestClassifier()\n",
    "rf_model.fit(X_train, Y_train)\n",
    "rf_pred = rf_model.predict(X_test)\n",
    "rf_acc = accuracy_score(Y_test, rf_pred)\n",
    "print(\"Random Forest Accuracy: \", rf_acc)"
   ]
  },
  {
   "cell_type": "code",
   "execution_count": 9,
   "metadata": {},
   "outputs": [
    {
     "name": "stdout",
     "output_type": "stream",
     "text": [
      "Combined Accuracy:  0.9416531604538088\n"
     ]
    }
   ],
   "source": [
    "#combining all the models\n",
    "from sklearn.ensemble import VotingClassifier\n",
    "model = VotingClassifier(estimators=[('lr', logi_model), ('dt', dt_model), ('rf', rf_model)], voting='hard')\n",
    "model.fit(X_train, Y_train)\n",
    "model_pred = model.predict(X_test)\n",
    "model_acc = accuracy_score(Y_test, model_pred)\n",
    "print(\"Combined Accuracy: \", model_acc)"
   ]
  },
  {
   "cell_type": "code",
   "execution_count": 10,
   "metadata": {},
   "outputs": [],
   "source": [
    "# saving all models\n",
    "import pickle\n",
    "pickle.dump(logi_model, open('../static/model/logi_model.pkl', 'wb'))\n",
    "pickle.dump(dt_model, open('../static/model/dt_model.pkl', 'wb'))\n",
    "pickle.dump(rf_model, open('../static/model/rf_model.pkl', 'wb'))\n",
    "pickle.dump(model, open('../static/model/model.pkl', 'wb'))"
   ]
  },
  {
   "cell_type": "code",
   "execution_count": 21,
   "metadata": {},
   "outputs": [
    {
     "name": "stdout",
     "output_type": "stream",
     "text": [
      "[1]\n",
      "[0]\n",
      "[1]\n",
      "[0]\n"
     ]
    }
   ],
   "source": [
    "# using saved model\n",
    "data = scaler.transform([[43,0,1,100,223,0,0,142,0,0,1]])\n",
    "\n",
    "combinemodel = pickle.load(open('../static/model/model.pkl', 'rb'))\n",
    "print(combinemodel.predict(data))\n",
    "\n",
    "logistic_model = pickle.load(open('../static/model/logi_model.pkl', 'rb'))\n",
    "print(logistic_model.predict(data))\n",
    "\n",
    "decision_model = pickle.load(open('../static/model/dt_model.pkl', 'rb'))\n",
    "print(decision_model.predict(data))\n",
    "\n",
    "random_model = pickle.load(open('../static/model/rf_model.pkl', 'rb'))\n",
    "print(random_model.predict(data))\n"
   ]
  }
 ],
 "metadata": {
  "kernelspec": {
   "display_name": "Python 3",
   "language": "python",
   "name": "python3"
  },
  "language_info": {
   "codemirror_mode": {
    "name": "ipython",
    "version": 3
   },
   "file_extension": ".py",
   "mimetype": "text/x-python",
   "name": "python",
   "nbconvert_exporter": "python",
   "pygments_lexer": "ipython3",
   "version": "3.9.11"
  }
 },
 "nbformat": 4,
 "nbformat_minor": 2
}
